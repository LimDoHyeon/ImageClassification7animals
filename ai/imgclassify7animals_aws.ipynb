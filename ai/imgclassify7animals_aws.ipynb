{
 "cells": [
  {
   "cell_type": "markdown",
   "id": "eeebf814fcc2768e",
   "metadata": {},
   "source": [
    "# 1. Importing libraries"
   ]
  },
  {
   "cell_type": "code",
   "execution_count": null,
   "id": "c8bd6cbb-be71-488d-bb0a-944c72e98533",
   "metadata": {
    "tags": []
   },
   "outputs": [],
   "source": [
    "# cuda와 pytorch의 호환을 위한 설치 버전 지정\n",
    "!pip install torch==2.1.2 torchvision==0.16.2 torchaudio==2.1.2 --index-url https://download.pytorch.org/whl/cu121"
   ]
  },
  {
   "cell_type": "code",
   "execution_count": 22,
   "id": "edddad907c54ca3b",
   "metadata": {
    "ExecuteTime": {
     "end_time": "2024-02-03T04:51:26.781149Z",
     "start_time": "2024-02-03T04:51:18.629635Z"
    },
    "collapsed": false,
    "jupyter": {
     "outputs_hidden": false
    },
    "tags": []
   },
   "outputs": [
    {
     "name": "stdout",
     "output_type": "stream",
     "text": [
      "Using cuda for training.\n"
     ]
    }
   ],
   "source": [
    "import pandas as pd\n",
    "import torch\n",
    "import torch.nn as nn\n",
    "import torch.optim as optim\n",
    "from torch.utils.data import Dataset, DataLoader\n",
    "from torchvision import transforms, models\n",
    "from PIL import Image\n",
    "from sklearn.model_selection import train_test_split\n",
    "from sklearn.metrics import confusion_matrix, f1_score\n",
    "from tqdm import tqdm\n",
    "import numpy as np\n",
    "\n",
    "device = torch.device(\"cuda\" if torch.cuda.is_available() else \"cpu\")\n",
    "print(f\"Using {device} for training.\")"
   ]
  },
  {
   "cell_type": "markdown",
   "id": "bf6353440ca47ac9",
   "metadata": {},
   "source": [
    "# 2. Loading data & Preprocessing\n",
    "- 데이터 로드\n",
    "  - 종별로 1,000장씩 총 7종 - 사진 7,000장\n",
    "  - train_test_split 이용하여 8:2로 분할 \n",
    "- 데이터 전처리"
   ]
  },
  {
   "cell_type": "code",
   "execution_count": 4,
   "id": "6c8f42a282cbb041",
   "metadata": {
    "ExecuteTime": {
     "end_time": "2024-02-03T04:51:28.263086Z",
     "start_time": "2024-02-03T04:51:28.212544Z"
    },
    "collapsed": false,
    "jupyter": {
     "outputs_hidden": false
    },
    "tags": []
   },
   "outputs": [
    {
     "name": "stdout",
     "output_type": "stream",
     "text": [
      "                           이미지_경로        라벨\n",
      "0            img/dog/dog.4010.jpg       dog\n",
      "1        img/horse/horse.382.jpeg     horse\n",
      "2  img/squirrel/squirrel.176.jpeg  squirrel\n",
      "3  img/squirrel/squirrel.820.jpeg  squirrel\n",
      "4  img/squirrel/squirrel.892.jpeg  squirrel\n",
      "5            img/cow/cow.402.jpeg       cow\n",
      "6            img/cow/cow.612.jpeg       cow\n",
      "7  img/elephant/elephant.828.jpeg  elephant\n",
      "8         img/horse/horse.69.jpeg     horse\n",
      "9    img/elephant/elephant.62.jpg  elephant\n"
     ]
    },
    {
     "name": "stderr",
     "output_type": "stream",
     "text": [
      "/tmp/ipykernel_32276/994303206.py:10: FutureWarning: The frame.append method is deprecated and will be removed from pandas in a future version. Use pandas.concat instead.\n",
      "  train_data = train_data.append(train_label_data)\n",
      "/tmp/ipykernel_32276/994303206.py:11: FutureWarning: The frame.append method is deprecated and will be removed from pandas in a future version. Use pandas.concat instead.\n",
      "  test_data = test_data.append(test_label_data)\n",
      "/tmp/ipykernel_32276/994303206.py:10: FutureWarning: The frame.append method is deprecated and will be removed from pandas in a future version. Use pandas.concat instead.\n",
      "  train_data = train_data.append(train_label_data)\n",
      "/tmp/ipykernel_32276/994303206.py:11: FutureWarning: The frame.append method is deprecated and will be removed from pandas in a future version. Use pandas.concat instead.\n",
      "  test_data = test_data.append(test_label_data)\n",
      "/tmp/ipykernel_32276/994303206.py:10: FutureWarning: The frame.append method is deprecated and will be removed from pandas in a future version. Use pandas.concat instead.\n",
      "  train_data = train_data.append(train_label_data)\n",
      "/tmp/ipykernel_32276/994303206.py:11: FutureWarning: The frame.append method is deprecated and will be removed from pandas in a future version. Use pandas.concat instead.\n",
      "  test_data = test_data.append(test_label_data)\n",
      "/tmp/ipykernel_32276/994303206.py:10: FutureWarning: The frame.append method is deprecated and will be removed from pandas in a future version. Use pandas.concat instead.\n",
      "  train_data = train_data.append(train_label_data)\n",
      "/tmp/ipykernel_32276/994303206.py:11: FutureWarning: The frame.append method is deprecated and will be removed from pandas in a future version. Use pandas.concat instead.\n",
      "  test_data = test_data.append(test_label_data)\n",
      "/tmp/ipykernel_32276/994303206.py:10: FutureWarning: The frame.append method is deprecated and will be removed from pandas in a future version. Use pandas.concat instead.\n",
      "  train_data = train_data.append(train_label_data)\n",
      "/tmp/ipykernel_32276/994303206.py:11: FutureWarning: The frame.append method is deprecated and will be removed from pandas in a future version. Use pandas.concat instead.\n",
      "  test_data = test_data.append(test_label_data)\n",
      "/tmp/ipykernel_32276/994303206.py:10: FutureWarning: The frame.append method is deprecated and will be removed from pandas in a future version. Use pandas.concat instead.\n",
      "  train_data = train_data.append(train_label_data)\n",
      "/tmp/ipykernel_32276/994303206.py:11: FutureWarning: The frame.append method is deprecated and will be removed from pandas in a future version. Use pandas.concat instead.\n",
      "  test_data = test_data.append(test_label_data)\n",
      "/tmp/ipykernel_32276/994303206.py:10: FutureWarning: The frame.append method is deprecated and will be removed from pandas in a future version. Use pandas.concat instead.\n",
      "  train_data = train_data.append(train_label_data)\n",
      "/tmp/ipykernel_32276/994303206.py:11: FutureWarning: The frame.append method is deprecated and will be removed from pandas in a future version. Use pandas.concat instead.\n",
      "  test_data = test_data.append(test_label_data)\n"
     ]
    }
   ],
   "source": [
    "# 데이터 로드 및 분할\n",
    "data = pd.read_csv('datasetForAWS.csv')\n",
    "\n",
    "train_data = pd.DataFrame()\n",
    "test_data = pd.DataFrame()\n",
    "\n",
    "for label in data['라벨'].unique():\n",
    "    label_data = data[data['라벨'] == label]\n",
    "    train_label_data, test_label_data = train_test_split(label_data, test_size=200, random_state=42)  # Splitting\n",
    "    train_data = train_data.append(train_label_data)\n",
    "    test_data = test_data.append(test_label_data)\n",
    "\n",
    "train_data = train_data.sample(frac=1).reset_index(drop=True)\n",
    "test_data = test_data.sample(frac=1).reset_index(drop=True)\n",
    "\n",
    "print(train_data[:10])"
   ]
  },
  {
   "cell_type": "code",
   "execution_count": 5,
   "id": "9c4d32455123ed39",
   "metadata": {
    "ExecuteTime": {
     "end_time": "2024-02-03T05:04:17.807319Z",
     "start_time": "2024-02-03T05:04:17.800862Z"
    },
    "collapsed": false,
    "jupyter": {
     "outputs_hidden": false
    },
    "tags": []
   },
   "outputs": [],
   "source": [
    "# 사용자 정의 데이터셋 클래스\n",
    "class AnimalDataset(Dataset):\n",
    "    def __init__(self, dataframe, label_map, transform=None):\n",
    "        self.dataframe = dataframe\n",
    "        self.label_map = label_map\n",
    "        self.transform = transform\n",
    "\n",
    "    def __len__(self):\n",
    "        return len(self.dataframe)\n",
    "\n",
    "    def __getitem__(self, idx):\n",
    "        image_path = self.dataframe.iloc[idx, 0]\n",
    "        image = Image.open(image_path).convert(\"RGB\")  # tensor 단위 오류 해결 위해 명시\n",
    "        label_name = self.dataframe.iloc[idx, 1]\n",
    "        label = self.label_map[label_name]\n",
    "\n",
    "        if self.transform:\n",
    "            image = self.transform(image)\n",
    "\n",
    "        return image, label\n",
    "\n",
    "# 라벨을 정수로 매핑 - 추후 label을 숫자가 아닌 글자로 반환하도록 해주는 딕셔너리\n",
    "label_map = {'cat': 0, 'cow': 1, 'dog': 2, 'elephant': 3, 'horse': 4, 'lamb': 5, 'squirrel': 6}\n",
    "\n",
    "# 이미지 전처리를 위한 transform 함수 정의\n",
    "transform = transforms.Compose([\n",
    "    transforms.Resize((224, 224)),\n",
    "    transforms.ToTensor(),\n",
    "    transforms.Normalize(mean=[0.485, 0.456, 0.406], std=[0.229, 0.224, 0.225])\n",
    "])\n",
    "\n",
    "# 데이터셋 및 데이터 로더 생성\n",
    "train_dataset = AnimalDataset(train_data, label_map, transform=transform)  # 인스턴스는 init 파라미터 따름\n",
    "test_dataset = AnimalDataset(test_data, label_map, transform=transform)\n",
    "\n",
    "train_loader = DataLoader(train_dataset, batch_size=8, shuffle=True)\n",
    "test_loader = DataLoader(test_dataset, batch_size=8, shuffle=False)"
   ]
  },
  {
   "cell_type": "markdown",
   "id": "c029f6c78d85167",
   "metadata": {},
   "source": [
    "# 3. Training"
   ]
  },
  {
   "cell_type": "code",
   "execution_count": 37,
   "id": "498ea187deb6eb10",
   "metadata": {
    "ExecuteTime": {
     "end_time": "2024-02-03T05:04:18.865674Z",
     "start_time": "2024-02-03T05:04:18.646241Z"
    },
    "collapsed": false,
    "jupyter": {
     "outputs_hidden": false
    },
    "tags": []
   },
   "outputs": [],
   "source": [
    "# 모델 정의\n",
    "model = models.resnet18(weights=models.ResNet18_Weights.IMAGENET1K_V1)  # imageNet 데이터로 훈련된 모델 불러옴\n",
    "\"\"\"\n",
    "Q. 왜 내 모델에 사용할 이미지도 아닌 imageNet 이미지로 학습한 모델을 불러오는가?\n",
    "A. 이미 한 번 이미지 분류를 학습한 모델을 불러오면 복잡한 학습 과정에 들어가는 시간과 비용 절감 가능\n",
    "   (가중치를 조금만 수정하면 되니까) \n",
    "\"\"\"\n",
    "num_ftrs = model.fc.in_features\n",
    "model.fc = nn.Linear(num_ftrs, 7)  # 7종의 동물 클래스\n",
    "model = model.to(device)\n",
    "\n",
    "# 손실 함수와 옵티마이저 설정\n",
    "criterion = nn.CrossEntropyLoss()\n",
    "optimizer = optim.Adam(model.parameters(), lr=0.0001)\n",
    "\n",
    "# 학습 함수\n",
    "def train_model(model, criterion, optimizer, num_epochs=20):\n",
    "    for epoch in range(num_epochs):\n",
    "        model.train()  # 모델을 학습 모드로 설정\n",
    "        running_loss = 0.0\n",
    "        for images, labels in tqdm(train_loader, desc=f\"Epoch {epoch+1}/{num_epochs}\"):\n",
    "            images, labels = images.to(device), labels.to(device)  # GPU로 데이터 이동\n",
    "            optimizer.zero_grad()\n",
    "            outputs = model(images)\n",
    "            loss = criterion(outputs, labels)\n",
    "            loss.backward()\n",
    "            optimizer.step()\n",
    "            running_loss += loss.item()\n",
    "    \n",
    "        epoch_loss = running_loss / len(train_loader)\n",
    "        tqdm.write(f\"Epoch {epoch+1}/{num_epochs}, Loss: {epoch_loss:.4f}\")  # tqdm.write를 사용하여 에폭 손실 출력\n",
    "    return model"
   ]
  },
  {
   "cell_type": "code",
   "execution_count": 38,
   "id": "c10083119e7b7b13",
   "metadata": {
    "ExecuteTime": {
     "end_time": "2024-02-03T05:06:06.653976Z",
     "start_time": "2024-02-03T05:04:20.195550Z"
    },
    "collapsed": false,
    "jupyter": {
     "outputs_hidden": false
    },
    "tags": []
   },
   "outputs": [
    {
     "name": "stderr",
     "output_type": "stream",
     "text": [
      "Epoch 1/20: 100%|██████████| 700/700 [00:37<00:00, 18.83it/s]\n"
     ]
    },
    {
     "name": "stdout",
     "output_type": "stream",
     "text": [
      "Epoch 1/20, Loss: 0.4001\n"
     ]
    },
    {
     "name": "stderr",
     "output_type": "stream",
     "text": [
      "Epoch 2/20: 100%|██████████| 700/700 [00:37<00:00, 18.85it/s]\n"
     ]
    },
    {
     "name": "stdout",
     "output_type": "stream",
     "text": [
      "Epoch 2/20, Loss: 0.1585\n"
     ]
    },
    {
     "name": "stderr",
     "output_type": "stream",
     "text": [
      "Epoch 3/20: 100%|██████████| 700/700 [00:37<00:00, 18.88it/s]\n"
     ]
    },
    {
     "name": "stdout",
     "output_type": "stream",
     "text": [
      "Epoch 3/20, Loss: 0.1177\n"
     ]
    },
    {
     "name": "stderr",
     "output_type": "stream",
     "text": [
      "Epoch 4/20: 100%|██████████| 700/700 [00:37<00:00, 18.90it/s]\n"
     ]
    },
    {
     "name": "stdout",
     "output_type": "stream",
     "text": [
      "Epoch 4/20, Loss: 0.0811\n"
     ]
    },
    {
     "name": "stderr",
     "output_type": "stream",
     "text": [
      "Epoch 5/20: 100%|██████████| 700/700 [00:37<00:00, 18.78it/s]\n"
     ]
    },
    {
     "name": "stdout",
     "output_type": "stream",
     "text": [
      "Epoch 5/20, Loss: 0.0682\n"
     ]
    },
    {
     "name": "stderr",
     "output_type": "stream",
     "text": [
      "Epoch 6/20: 100%|██████████| 700/700 [00:37<00:00, 18.80it/s]\n"
     ]
    },
    {
     "name": "stdout",
     "output_type": "stream",
     "text": [
      "Epoch 6/20, Loss: 0.0636\n"
     ]
    },
    {
     "name": "stderr",
     "output_type": "stream",
     "text": [
      "Epoch 7/20: 100%|██████████| 700/700 [00:37<00:00, 18.89it/s]\n"
     ]
    },
    {
     "name": "stdout",
     "output_type": "stream",
     "text": [
      "Epoch 7/20, Loss: 0.0529\n"
     ]
    },
    {
     "name": "stderr",
     "output_type": "stream",
     "text": [
      "Epoch 8/20: 100%|██████████| 700/700 [00:37<00:00, 18.86it/s]\n"
     ]
    },
    {
     "name": "stdout",
     "output_type": "stream",
     "text": [
      "Epoch 8/20, Loss: 0.0515\n"
     ]
    },
    {
     "name": "stderr",
     "output_type": "stream",
     "text": [
      "Epoch 9/20: 100%|██████████| 700/700 [00:36<00:00, 18.93it/s]\n"
     ]
    },
    {
     "name": "stdout",
     "output_type": "stream",
     "text": [
      "Epoch 9/20, Loss: 0.0420\n"
     ]
    },
    {
     "name": "stderr",
     "output_type": "stream",
     "text": [
      "Epoch 10/20: 100%|██████████| 700/700 [00:37<00:00, 18.82it/s]\n"
     ]
    },
    {
     "name": "stdout",
     "output_type": "stream",
     "text": [
      "Epoch 10/20, Loss: 0.0410\n"
     ]
    },
    {
     "name": "stderr",
     "output_type": "stream",
     "text": [
      "Epoch 11/20: 100%|██████████| 700/700 [00:36<00:00, 18.95it/s]\n"
     ]
    },
    {
     "name": "stdout",
     "output_type": "stream",
     "text": [
      "Epoch 11/20, Loss: 0.0333\n"
     ]
    },
    {
     "name": "stderr",
     "output_type": "stream",
     "text": [
      "Epoch 12/20: 100%|██████████| 700/700 [00:37<00:00, 18.82it/s]\n"
     ]
    },
    {
     "name": "stdout",
     "output_type": "stream",
     "text": [
      "Epoch 12/20, Loss: 0.0393\n"
     ]
    },
    {
     "name": "stderr",
     "output_type": "stream",
     "text": [
      "Epoch 13/20: 100%|██████████| 700/700 [00:37<00:00, 18.89it/s]\n"
     ]
    },
    {
     "name": "stdout",
     "output_type": "stream",
     "text": [
      "Epoch 13/20, Loss: 0.0465\n"
     ]
    },
    {
     "name": "stderr",
     "output_type": "stream",
     "text": [
      "Epoch 14/20: 100%|██████████| 700/700 [00:37<00:00, 18.90it/s]\n"
     ]
    },
    {
     "name": "stdout",
     "output_type": "stream",
     "text": [
      "Epoch 14/20, Loss: 0.0444\n"
     ]
    },
    {
     "name": "stderr",
     "output_type": "stream",
     "text": [
      "Epoch 15/20: 100%|██████████| 700/700 [00:37<00:00, 18.83it/s]\n"
     ]
    },
    {
     "name": "stdout",
     "output_type": "stream",
     "text": [
      "Epoch 15/20, Loss: 0.0313\n"
     ]
    },
    {
     "name": "stderr",
     "output_type": "stream",
     "text": [
      "Epoch 16/20: 100%|██████████| 700/700 [00:37<00:00, 18.86it/s]\n"
     ]
    },
    {
     "name": "stdout",
     "output_type": "stream",
     "text": [
      "Epoch 16/20, Loss: 0.0282\n"
     ]
    },
    {
     "name": "stderr",
     "output_type": "stream",
     "text": [
      "Epoch 17/20: 100%|██████████| 700/700 [00:37<00:00, 18.82it/s]\n"
     ]
    },
    {
     "name": "stdout",
     "output_type": "stream",
     "text": [
      "Epoch 17/20, Loss: 0.0214\n"
     ]
    },
    {
     "name": "stderr",
     "output_type": "stream",
     "text": [
      "Epoch 18/20: 100%|██████████| 700/700 [00:37<00:00, 18.86it/s]\n"
     ]
    },
    {
     "name": "stdout",
     "output_type": "stream",
     "text": [
      "Epoch 18/20, Loss: 0.0391\n"
     ]
    },
    {
     "name": "stderr",
     "output_type": "stream",
     "text": [
      "Epoch 19/20: 100%|██████████| 700/700 [00:37<00:00, 18.81it/s]\n"
     ]
    },
    {
     "name": "stdout",
     "output_type": "stream",
     "text": [
      "Epoch 19/20, Loss: 0.0317\n"
     ]
    },
    {
     "name": "stderr",
     "output_type": "stream",
     "text": [
      "Epoch 20/20: 100%|██████████| 700/700 [00:37<00:00, 18.76it/s]"
     ]
    },
    {
     "name": "stdout",
     "output_type": "stream",
     "text": [
      "Epoch 20/20, Loss: 0.0268\n"
     ]
    },
    {
     "name": "stderr",
     "output_type": "stream",
     "text": [
      "\n"
     ]
    }
   ],
   "source": [
    "# 모델 학습\n",
    "trained_model = train_model(model, criterion, optimizer, num_epochs=20)"
   ]
  },
  {
   "cell_type": "markdown",
   "id": "b67d535699bf2f78",
   "metadata": {},
   "source": [
    "# 4. Testing"
   ]
  },
  {
   "cell_type": "code",
   "execution_count": 39,
   "id": "dcd546bbcb581712",
   "metadata": {
    "ExecuteTime": {
     "end_time": "2024-02-01T04:54:15.964744Z",
     "start_time": "2024-02-01T04:52:14.769352Z"
    },
    "collapsed": false,
    "jupyter": {
     "outputs_hidden": false
    },
    "tags": []
   },
   "outputs": [],
   "source": [
    "# 테스트 함수 수정 버전\n",
    "def test_model_accuracy(model, test_loader):\n",
    "    model.eval()  # 모델을 평가 모드로 설정\n",
    "    correct = 0\n",
    "    total = 0\n",
    "    device = torch.device(\"cuda\" if torch.cuda.is_available() else \"cpu\")\n",
    "    model.to(device)  # 모델을 적절한 디바이스로 이동\n",
    "\n",
    "    with torch.no_grad():  # 그래디언트 계산을 비활성화하여 메모리 사용량을 줄이고 계산을 빠르게 함\n",
    "        for images, labels in test_loader:\n",
    "            images, labels = images.to(device), labels.to(device)  # 데이터를 적절한 디바이스로 이동\n",
    "            outputs = model(images)\n",
    "            _, predicted = torch.max(outputs.data, 1)\n",
    "            total += labels.size(0)\n",
    "            correct += (predicted == labels).sum().item()\n",
    "\n",
    "    accuracy = 100 * correct / total\n",
    "    print(f'테스트 데이터에 대한 모델 정확도: {accuracy:.2f}%')\n",
    "\n",
    "def test_model_f1_confusion_matrix(model, test_loader, device):\n",
    "    model.eval()  # 모델을 평가 모드로 설정\n",
    "    all_preds = []\n",
    "    all_labels = []\n",
    "    \n",
    "    with torch.no_grad():  # 그래디언트 계산을 비활성화\n",
    "        for images, labels in test_loader:\n",
    "            images, labels = images.to(device), labels.to(device)\n",
    "            outputs = model(images)\n",
    "            _, preds = torch.max(outputs, 1)\n",
    "            all_preds.extend(preds.view(-1).cpu().numpy())\n",
    "            all_labels.extend(labels.view(-1).cpu().numpy())\n",
    "\n",
    "    # 혼동 행렬 계산\n",
    "    cm = confusion_matrix(all_labels, all_preds)\n",
    "    print(\"Confusion Matrix:\")\n",
    "    print(cm)\n",
    "    \n",
    "    # F1 Score 계산\n",
    "    f1 = f1_score(all_labels, all_preds, average='weighted')\n",
    "    print(f\"F1 Score: {f1:.4f}\")"
   ]
  },
  {
   "cell_type": "code",
   "execution_count": 40,
   "id": "ebfcc417-ed0f-478c-9597-39be6cd40cb3",
   "metadata": {
    "tags": []
   },
   "outputs": [
    {
     "name": "stdout",
     "output_type": "stream",
     "text": [
      "테스트 데이터에 대한 모델 정확도: 93.07%\n"
     ]
    }
   ],
   "source": [
    "# 모델 테스트 실행\n",
    "test_model_accuracy(trained_model, test_loader)  # 정확도"
   ]
  },
  {
   "cell_type": "code",
   "execution_count": 41,
   "id": "4588decc-02e3-401c-9340-b8a0f490b317",
   "metadata": {
    "tags": []
   },
   "outputs": [
    {
     "name": "stdout",
     "output_type": "stream",
     "text": [
      "Confusion Matrix:\n",
      "[[192   0   5   0   1   0   2]\n",
      " [  0 177   0   3   7  10   3]\n",
      " [  8   1 179   0   4   3   5]\n",
      " [  0   1   0 193   2   0   4]\n",
      " [  0   5   1   1 184   6   3]\n",
      " [  3   4   0   1   2 180  10]\n",
      " [  1   0   0   0   0   1 198]]\n",
      "F1 Score: 0.9306\n"
     ]
    }
   ],
   "source": [
    "test_model_f1_confusion_matrix(trained_model, test_loader, device)  # F1 Score & Confusion matrix"
   ]
  },
  {
   "cell_type": "markdown",
   "id": "ed151b86fe8729a9",
   "metadata": {},
   "source": [
    "# 4. Saving Model"
   ]
  },
  {
   "cell_type": "code",
   "execution_count": 42,
   "id": "15e8a4c25c493a0f",
   "metadata": {
    "ExecuteTime": {
     "end_time": "2024-02-01T05:00:04.017219Z",
     "start_time": "2024-02-01T05:00:03.914822Z"
    },
    "collapsed": false,
    "jupyter": {
     "outputs_hidden": false
    },
    "tags": []
   },
   "outputs": [],
   "source": [
    "# 현재 디렉토리에 모델 저장\n",
    "torch.save(model.state_dict(), 'modelv3_acc93.pth')"
   ]
  },
  {
   "cell_type": "markdown",
   "id": "c7d165b581ff1661",
   "metadata": {},
   "source": [
    "# 5. Recall"
   ]
  },
  {
   "cell_type": "code",
   "execution_count": 25,
   "id": "7be862fff7ca1d4a",
   "metadata": {
    "ExecuteTime": {
     "end_time": "2024-02-01T05:00:13.869276Z",
     "start_time": "2024-02-01T05:00:13.649465Z"
    },
    "tags": []
   },
   "outputs": [],
   "source": [
    "# go to modelTest.py"
   ]
  },
  {
   "cell_type": "code",
   "execution_count": null,
   "id": "abda50effa2a39b2",
   "metadata": {
    "collapsed": false,
    "jupyter": {
     "outputs_hidden": false
    }
   },
   "outputs": [],
   "source": [
    "# TODO 1 : 학습 속도 절감 (Completed)\n",
    "# TODO 2 : 모델 정확도 개선 - 적절한 성능 지표, 하이퍼파라미터 등 (Completed - F1 score and confusion matrix)\n",
    "# TODO 3 : 주로 영향을 미치는 하이퍼파라미터 정리 (Completed - Learning Rate, epoch 20이면 충분한 듯)"
   ]
  }
 ],
 "metadata": {
  "kernelspec": {
   "display_name": "conda_tensorflow2_p310",
   "language": "python",
   "name": "conda_tensorflow2_p310"
  },
  "language_info": {
   "codemirror_mode": {
    "name": "ipython",
    "version": 3
   },
   "file_extension": ".py",
   "mimetype": "text/x-python",
   "name": "python",
   "nbconvert_exporter": "python",
   "pygments_lexer": "ipython3",
   "version": "3.10.13"
  }
 },
 "nbformat": 4,
 "nbformat_minor": 5
}
