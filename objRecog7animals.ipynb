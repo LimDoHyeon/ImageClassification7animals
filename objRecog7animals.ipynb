{
  "nbformat": 4,
  "nbformat_minor": 0,
  "metadata": {
    "colab": {
      "provenance": [],
      "authorship_tag": "ABX9TyNrSK13oebTM5FdSQe1+d07",
      "include_colab_link": true
    },
    "kernelspec": {
      "name": "python3",
      "display_name": "Python 3"
    },
    "language_info": {
      "name": "python"
    }
  },
  "cells": [
    {
      "cell_type": "markdown",
      "metadata": {
        "id": "view-in-github",
        "colab_type": "text"
      },
      "source": [
        "<a href=\"https://colab.research.google.com/github/LimDoHyeon/ObjectRecognition7animals/blob/main/objRecog7animals.ipynb\" target=\"_parent\"><img src=\"https://colab.research.google.com/assets/colab-badge.svg\" alt=\"Open In Colab\"/></a>"
      ]
    },
    {
      "cell_type": "markdown",
      "source": [
        "# 1. 라이브러리 import"
      ],
      "metadata": {
        "id": "fmIuJ1qdHw3v"
      }
    },
    {
      "cell_type": "code",
      "execution_count": 16,
      "metadata": {
        "id": "AS9ED93OHSrC"
      },
      "outputs": [],
      "source": [
        "import numpy as np\n",
        "import pandas as pd\n",
        "import os"
      ]
    },
    {
      "cell_type": "markdown",
      "source": [
        "#2. 데이터 로드\n",
        "- 모든 훈련 데이터 이미지 동물별로 800장\n",
        "- 모든 테스트 데이터 이미지 동물별로 200장"
      ],
      "metadata": {
        "id": "_fGV70ZohMuT"
      }
    },
    {
      "cell_type": "code",
      "source": [
        "# Base directory, train directory and test directory\n",
        "base_dir = '/content/drive/MyDrive/캡스톤디자인2024/studyYOLOv3'\n",
        "train_dir = os.path.join(base_dir, 'imgTrain')\n",
        "test_dir = os.path.join(base_dir, 'imgTest')\n",
        "\n",
        "# Directory to train animals\n",
        "train_cats_dir = os.path.join(train_dir, 'cats')\n",
        "train_racoons_dir = os.path.join(train_dir, 'racoons')\n",
        "train_weasels_dir = os.path.join(train_dir, 'weasels')\n",
        "print(train_cats_dir)\n",
        "print(train_racoons_dir)\n",
        "print(train_weasels_dir)\n",
        "\n",
        "# Directory to test animals\n",
        "test_cats_dir = os.path.join(test_dir, 'cats')\n",
        "test_racoons_dir = os.path.join(test_dir, 'racoons')\n",
        "test_weasels_dir = os.path.join(test_dir, 'weasels')\n",
        "print(test_cats_dir)\n",
        "print(test_racoons_dir)\n",
        "print(test_weasels_dir)\n",
        "\n",
        "\n",
        "# labels in below - should be reconstructed"
      ],
      "metadata": {
        "id": "FUsM4NKoHv7z",
        "colab": {
          "base_uri": "https://localhost:8080/"
        },
        "outputId": "b700ab08-a037-43a3-883a-be67731a213a"
      },
      "execution_count": 24,
      "outputs": [
        {
          "output_type": "stream",
          "name": "stdout",
          "text": [
            "/content/drive/MyDrive/캡스톤디자인2024/studyYOLOv3/imgTrain/cats\n",
            "/content/drive/MyDrive/캡스톤디자인2024/studyYOLOv3/imgTrain/racoons\n",
            "/content/drive/MyDrive/캡스톤디자인2024/studyYOLOv3/imgTrain/weasels\n",
            "/content/drive/MyDrive/캡스톤디자인2024/studyYOLOv3/imgTest/cats\n",
            "/content/drive/MyDrive/캡스톤디자인2024/studyYOLOv3/imgTest/racoons\n",
            "/content/drive/MyDrive/캡스톤디자인2024/studyYOLOv3/imgTest/weasels\n"
          ]
        }
      ]
    },
    {
      "cell_type": "code",
      "source": [
        "# Checking dataset\n",
        "# Checking filename of datas\n",
        "train_cat_fnames = os.listdir(train_cats_dir)\n",
        "train_racoon_fnames = os.listdir(train_racoons_dir)\n",
        "train_weasel_fnames = os.listdir(train_weasels_dir)\n",
        "\n",
        "test_cat_fnames = os.listdir(test_cats_dir)\n",
        "test_racoon_fnames = os.listdir(test_racoons_dir)\n",
        "test_weasel_fnames = os.listdir(test_weasels_dir)\n",
        "\n",
        "print('cats training:', len(train_cat_fnames), train_cat_fnames[:5])\n",
        "print('racoons training:', len(train_racoon_fnames), train_racoon_fnames[:5])\n",
        "print('weasels training:', len(train_weasel_fnames), train_weasel_fnames[:5])\n",
        "print('cats testing:', len(test_cat_fnames), test_cat_fnames[:5])\n",
        "print('racoons testing:', len(test_racoon_fnames), test_racoon_fnames[:5])\n",
        "print('weasels testing:', len(test_weasel_fnames), test_weasel_fnames[:5])"
      ],
      "metadata": {
        "colab": {
          "base_uri": "https://localhost:8080/"
        },
        "id": "xNNvHT1lor3Z",
        "outputId": "f4857624-f358-41cb-9c67-924d75993073"
      },
      "execution_count": 25,
      "outputs": [
        {
          "output_type": "stream",
          "name": "stdout",
          "text": [
            "cats training: 800 ['cat.4006.jpg', 'cat.4033.jpg', 'cat.4010.jpg', 'cat.4007.jpg', 'cat.4013.jpg']\n",
            "racoons training: 800 ['A03_H20_C013_C_211122_1219_30S_000027.010.jpg', 'A03_H20_C012_C_211123_1011_29S_000006.020.jpg', 'A03_H20_C012_C_211123_1016_10S_000005.018.jpg', 'A03_H20_C014_C_211112_4009_10S_000004.873.jpg', 'A03_H20_C012_C_211123_1012_29S_000002.025.jpg']\n",
            "weasels training: 800 ['A07_H20_C014_C_211202_3025_20S_000003.996.jpg', 'A07_H20_C013_C_211012_0004_20S_000004.275.jpg', 'A07_H18_C050_D_211006_0022_33S_000023.337.jpg', 'A07_G12_G001_G_200428_2001_10S_000000.451.jpg', 'A07_H20_C070_C_211203_6098_29S_000014.020.jpg']\n",
            "cats testing: 200 ['cat.4958.jpg', 'cat.4814.jpg', 'cat.4948.jpg', 'cat.4928.jpg', 'cat.4817.jpg']\n",
            "racoons testing: 200 ['A03_H20_C014_C_211112_4026_20S_000013.405.jpg', 'A03_H20_C014_C_211112_4024_20S_000012.872.jpg', 'A03_H20_C014_C_211112_4026_20S_000002.575.jpg', 'A03_H20_C014_C_211112_4023_20S_000015.871.jpg', 'A03_H20_C014_C_211112_4026_20S_000008.338.jpg']\n",
            "weasels testing: 200 ['A07_H20_C070_D_211206_6002_57S_000024.023.jpg', 'A07_H20_C070_D_211206_6010_54S_000032.010.jpg', 'A07_H20_C070_D_211206_6010_54S_000031.003.jpg', 'A07_H20_C070_D_211206_6010_54S_000036.009.jpg', 'A07_H20_C070_C_211203_6223_12S_000006.026.jpg']\n"
          ]
        }
      ]
    },
    {
      "cell_type": "markdown",
      "source": [
        "# 3. 데이터 전처리"
      ],
      "metadata": {
        "id": "1HWNHgo3hGC2"
      }
    },
    {
      "cell_type": "code",
      "source": [
        "# image scaling"
      ],
      "metadata": {
        "id": "n8XgYMFUH764"
      },
      "execution_count": null,
      "outputs": []
    },
    {
      "cell_type": "markdown",
      "source": [
        "#4. 모델링"
      ],
      "metadata": {
        "id": "ryM5m5yrhOah"
      }
    },
    {
      "cell_type": "code",
      "source": [],
      "metadata": {
        "id": "5cyWIuZnH79m"
      },
      "execution_count": null,
      "outputs": []
    },
    {
      "cell_type": "markdown",
      "source": [
        "#5. 훈련"
      ],
      "metadata": {
        "id": "1gI9bPHFhS6D"
      }
    },
    {
      "cell_type": "code",
      "source": [],
      "metadata": {
        "id": "EY71BdlKH8AG"
      },
      "execution_count": null,
      "outputs": []
    },
    {
      "cell_type": "markdown",
      "source": [
        "#6. 성능 확인 및 테스트"
      ],
      "metadata": {
        "id": "UFU0TyU6hUsK"
      }
    },
    {
      "cell_type": "code",
      "source": [],
      "metadata": {
        "id": "Eh8kY5AUrUjf"
      },
      "execution_count": null,
      "outputs": []
    },
    {
      "cell_type": "markdown",
      "source": [
        "#7. 후처리"
      ],
      "metadata": {
        "id": "OM_S53_2hXTR"
      }
    },
    {
      "cell_type": "code",
      "source": [],
      "metadata": {
        "id": "hH0vi1nrH8C9"
      },
      "execution_count": null,
      "outputs": []
    },
    {
      "cell_type": "markdown",
      "source": [
        "#8. 배포"
      ],
      "metadata": {
        "id": "0UY8TGPxhgbN"
      }
    },
    {
      "cell_type": "code",
      "source": [],
      "metadata": {
        "id": "EkLO2XQvhh9X"
      },
      "execution_count": null,
      "outputs": []
    }
  ]
}