{
  "nbformat": 4,
  "nbformat_minor": 0,
  "metadata": {
    "colab": {
      "provenance": [],
      "mount_file_id": "1-8_GRqh_2LP4P3dfoZeXb9GebLq9oQnt",
      "authorship_tag": "ABX9TyMsFpMM3zsu97Hvf2oD1gGd",
      "include_colab_link": true
    },
    "kernelspec": {
      "name": "python3",
      "display_name": "Python 3"
    },
    "language_info": {
      "name": "python"
    }
  },
  "cells": [
    {
      "cell_type": "markdown",
      "metadata": {
        "id": "view-in-github",
        "colab_type": "text"
      },
      "source": [
        "<a href=\"https://colab.research.google.com/github/LimDoHyeon/ObjectRecognition7animals/blob/main/objRecog7animals.ipynb\" target=\"_parent\"><img src=\"https://colab.research.google.com/assets/colab-badge.svg\" alt=\"Open In Colab\"/></a>"
      ]
    },
    {
      "cell_type": "markdown",
      "source": [
        "# 1. 라이브러리 import"
      ],
      "metadata": {
        "id": "fmIuJ1qdHw3v"
      }
    },
    {
      "cell_type": "code",
      "execution_count": 15,
      "metadata": {
        "id": "AS9ED93OHSrC"
      },
      "outputs": [],
      "source": [
        "import json\n",
        "import os\n",
        "from PIL import Image\n",
        "from torchvision import transforms\n",
        "from torch.utils.data import DataLoader, Dataset"
      ]
    },
    {
      "cell_type": "markdown",
      "source": [
        "#2. 데이터 로드 & 전처리\n",
        "- 데이터 로드\n",
        "  - 모든 훈련 데이터 이미지 동물별로 800장\n",
        "  - 모든 테스트 데이터 이미지 동물별로 200장\n",
        "- 데이터 전처리\n",
        "  - image scaling과 getitem에서 수행"
      ],
      "metadata": {
        "id": "_fGV70ZohMuT"
      }
    },
    {
      "cell_type": "code",
      "source": [
        "# image scaling\n",
        "transform = transforms.Compose([\n",
        "    transforms.Resize((224, 224)),\n",
        "    transforms.ToTensor(),\n",
        "    transforms.Normalize(mean=[0.485, 0.456, 0.406], std=[0.229, 0.224, 0.225]),\n",
        "])\n",
        "\n",
        "\n",
        "# Base directory, train directory and test directory\n",
        "class CustomDataset(Dataset):  # Dataset : imported by pytorch\n",
        "    def __init__(self, img_folder, label_folder, transform=None):\n",
        "        self.img_folder = img_folder\n",
        "        self.label_folder = label_folder\n",
        "        self.transform = transform\n",
        "\n",
        "        self.data = []  # 이미지-라벨 쌍이 저장되는 배열\n",
        "        for animal in os.listdir(img_folder):  # 종별 디렉토리 순회. (os.listdir(img_folder) : cats, racoons, and so on)\n",
        "            animal_img_folder = os.path.join(img_folder, animal)\n",
        "            animal_label_folder = os.path.join(label_folder, animal)\n",
        "            for img_file in os.listdir(animal_img_folder):\n",
        "                img_path = os.path.join(animal_img_folder, img_file)\n",
        "                label_path = os.path.join(animal_label_folder, img_file.replace('.jpg', '.json'))  # 실제 라벨명과 불일치 - 추후 수정 필요\n",
        "                self.data.append((img_path, label_path))\n",
        "\n",
        "    def __len__(self):\n",
        "        return len(self.data)\n",
        "\n",
        "    def __getitem__(self, idx):\n",
        "        img_path, label_path = self.data[idx]\n",
        "        image = Image.open(img_path)\n",
        "        if self.transform:\n",
        "            image = self.transform(image)\n",
        "\n",
        "        with open(label_path) as f:\n",
        "            label_data = json.load(f)\n",
        "            label = label_data['annotations'][0]['category_name']\n",
        "\n",
        "        return image, label\n",
        "\n",
        "base_dir = '/content/drive/MyDrive/캡스톤디자인2024/imgClassification7animals'\n",
        "train_img_dir = os.path.join(base_dir, 'imgs/imgTrain')\n",
        "train_label_dir = os.path.join(base_dir, 'labels/labelTrain')\n",
        "test_img_dir = os.path.join(base_dir, 'imgs/imgTest')\n",
        "test_label_dir = os.path.join(base_dir, 'labels/labelTest')"
      ],
      "metadata": {
        "id": "FUsM4NKoHv7z"
      },
      "execution_count": 16,
      "outputs": []
    },
    {
      "cell_type": "code",
      "source": [
        "train_dataset = CustomDataset(img_folder=train_img_dir, label_folder=train_label_dir, transform=transform)\n",
        "test_dataset = CustomDataset(img_folder=test_img_dir, label_folder=test_label_dir, transform=transform)\n",
        "\n",
        "train_loader = DataLoader(train_dataset, batch_size=32, shuffle=True)\n",
        "test_loader = DataLoader(test_dataset, batch_size=32, shuffle=False)"
      ],
      "metadata": {
        "id": "xNNvHT1lor3Z"
      },
      "execution_count": 18,
      "outputs": []
    },
    {
      "cell_type": "markdown",
      "source": [
        "# 3. 데이터 전처리"
      ],
      "metadata": {
        "id": "1HWNHgo3hGC2"
      }
    },
    {
      "cell_type": "code",
      "source": [
        "\n"
      ],
      "metadata": {
        "id": "n8XgYMFUH764"
      },
      "execution_count": null,
      "outputs": []
    },
    {
      "cell_type": "markdown",
      "source": [
        "#4. 모델링"
      ],
      "metadata": {
        "id": "ryM5m5yrhOah"
      }
    },
    {
      "cell_type": "code",
      "source": [
        "X =\n",
        "y =\n",
        "\n",
        "X_train, y_train =\n",
        "X_test, y_test ="
      ],
      "metadata": {
        "id": "5cyWIuZnH79m",
        "colab": {
          "base_uri": "https://localhost:8080/",
          "height": 140
        },
        "outputId": "c60da162-4ca3-4bb9-9cb3-8b69f5fa47fb"
      },
      "execution_count": null,
      "outputs": [
        {
          "output_type": "error",
          "ename": "SyntaxError",
          "evalue": "invalid syntax (<ipython-input-1-35c91c519930>, line 1)",
          "traceback": [
            "\u001b[0;36m  File \u001b[0;32m\"<ipython-input-1-35c91c519930>\"\u001b[0;36m, line \u001b[0;32m1\u001b[0m\n\u001b[0;31m    X_train, y_train =\u001b[0m\n\u001b[0m                       ^\u001b[0m\n\u001b[0;31mSyntaxError\u001b[0m\u001b[0;31m:\u001b[0m invalid syntax\n"
          ]
        }
      ]
    },
    {
      "cell_type": "markdown",
      "source": [
        "#5. 훈련"
      ],
      "metadata": {
        "id": "1gI9bPHFhS6D"
      }
    },
    {
      "cell_type": "code",
      "source": [],
      "metadata": {
        "id": "EY71BdlKH8AG"
      },
      "execution_count": null,
      "outputs": []
    },
    {
      "cell_type": "markdown",
      "source": [
        "#6. 성능 확인 및 테스트"
      ],
      "metadata": {
        "id": "UFU0TyU6hUsK"
      }
    },
    {
      "cell_type": "code",
      "source": [],
      "metadata": {
        "id": "Eh8kY5AUrUjf"
      },
      "execution_count": null,
      "outputs": []
    },
    {
      "cell_type": "markdown",
      "source": [
        "#7. 후처리"
      ],
      "metadata": {
        "id": "OM_S53_2hXTR"
      }
    },
    {
      "cell_type": "code",
      "source": [],
      "metadata": {
        "id": "hH0vi1nrH8C9"
      },
      "execution_count": null,
      "outputs": []
    },
    {
      "cell_type": "markdown",
      "source": [
        "#8. 배포"
      ],
      "metadata": {
        "id": "0UY8TGPxhgbN"
      }
    },
    {
      "cell_type": "code",
      "source": [],
      "metadata": {
        "id": "EkLO2XQvhh9X"
      },
      "execution_count": null,
      "outputs": []
    }
  ]
}